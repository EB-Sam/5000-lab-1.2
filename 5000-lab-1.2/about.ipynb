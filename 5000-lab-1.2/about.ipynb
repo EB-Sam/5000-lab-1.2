{
  "cells": [
    {
      "cell_type": "raw",
      "metadata": {},
      "source": [
        "---\n",
        "title: \"About\"\n",
        "---"
      ]
    },
    {
      "attachments": {},
      "cell_type": "markdown",
      "metadata": {},
      "source": [
        "# This site does so and so\n",
        "Lorem ipsum dolor sit amet, consectetur adipiscing elit. Praesent pulvinar ante vitae dui condimentum, a dapibus mi tincidunt. Proin ut est semper, accumsan lectus vel, sodales dolor. Aliquam erat volutpat. Nam lobortis quam a quam luctus, eu viverra lorem feugiat. Suspendisse tristique nisi quis sapien fringilla finibus. Pellentesque nec ante sit amet ligula congue maximus. Nulla et nisi id erat sagittis aliquam. Donec eros odio, luctus eu aliquet venenatis, egestas ac neque.\n",
        "\n",
        "\n",
        "## it should also help you with this \n",
        "Aenean interdum ipsum sit amet neque aliquam, eu fermentum ligula tempus. Phasellus lorem neque, facilisis vel lacinia at, pellentesque in enim. Nullam fermentum orci at metus commodo, a semper ipsum semper. In commodo, metus nec sagittis imperdiet, enim quam euismod turpis, a scelerisque nibh eros a justo. Vivamus pretium posuere erat, vel varius purus rutrum nec. Duis euismod nibh in dolor vulputate fermentum. Sed suscipit auctor lectus vitae consectetur. Cras hendrerit bibendum ligula. Suspendisse imperdiet pellentesque enim, in sagittis tortor accumsan sit amet. Vestibulum at sodales augue. Morbi cursus, libero sit amet accumsan accumsan, velit neque dapibus mauris, dignissim commodo sapien ante quis tortor. Morbi ut quam tempor, vehicula lorem non, iaculis dui.\n",
        "\n"
      ]
    },
    {
      "cell_type": "code",
      "execution_count": 12,
      "metadata": {},
      "outputs": [
        {
          "ename": "ModuleNotFoundError",
          "evalue": "No module named 'matplotlib'",
          "output_type": "error",
          "traceback": [
            "\u001b[0;31m---------------------------------------------------------------------------\u001b[0m",
            "\u001b[0;31mModuleNotFoundError\u001b[0m                       Traceback (most recent call last)",
            "Cell \u001b[0;32mIn[12], line 1\u001b[0m\n\u001b[0;32m----> 1\u001b[0m \u001b[39mimport\u001b[39;00m \u001b[39mmatplotlib\u001b[39;00m\u001b[39m.\u001b[39;00m\u001b[39mpyplot\u001b[39;00m \u001b[39mas\u001b[39;00m \u001b[39mplt\u001b[39;00m\n\u001b[1;32m      3\u001b[0m \u001b[39m# Sample data\u001b[39;00m\n\u001b[1;32m      4\u001b[0m x \u001b[39m=\u001b[39m [\u001b[39m1\u001b[39m, \u001b[39m2\u001b[39m, \u001b[39m3\u001b[39m, \u001b[39m4\u001b[39m, \u001b[39m5\u001b[39m]\n",
            "\u001b[0;31mModuleNotFoundError\u001b[0m: No module named 'matplotlib'"
          ]
        }
      ],
      "source": [
        "import matplotlib.pyplot as plt\n",
        "\n",
        "# Sample data\n",
        "x = [1, 2, 3, 4, 5]\n",
        "y = [2, 4, 6, 8, 10]\n",
        "\n",
        "# Create a line plot\n",
        "plt.plot(x, y)\n",
        "\n",
        "# Add labels and a title\n",
        "plt.xlabel('X-axis')\n",
        "plt.ylabel('Y-axis')\n",
        "plt.title('Simple Line Plot')\n",
        "\n",
        "# Show the plot\n",
        "plt.show()\n"
      ]
    }
  ],
  "metadata": {
    "kernelspec": {
      "display_name": "Python 3 (ipykernel)",
      "language": "python",
      "name": "python3"
    },
    "language_info": {
      "codemirror_mode": {
        "name": "ipython",
        "version": 3
      },
      "file_extension": ".py",
      "mimetype": "text/x-python",
      "name": "python",
      "nbconvert_exporter": "python",
      "pygments_lexer": "ipython3",
      "version": "3.9.6"
    }
  },
  "nbformat": 4,
  "nbformat_minor": 4
}
