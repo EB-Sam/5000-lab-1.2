{
 "cells": [
  {
   "attachments": {},
   "cell_type": "markdown",
   "metadata": {},
   "source": [
    "---\n",
    "title: \"presentation\"\n",
    "bibliography: ../reference.bib\n",
    "\n",
    "format:\n",
    "  revealjs: \n",
    "    slide-number: true\n",
    "    chalkboard: \n",
    "      buttons: false\n",
    "    preview-links: auto\n",
    "---\n",
    "\n",
    "## slide 1\n",
    "I really hope this generates a presentation\n",
    "please\n",
    "\n",
    "## here is another slide!\n",
    "lets cite something [@amaral2020ecology]\n",
    "\n",
    "## here are some books I want to read!\n",
    "\n",
    "![](../images/71514808480__5B2278B4-9D26-4FAF-AE51-ED8F5420A056.jpeg){.absolute top=\"170\" left=\"30\" width=\"400\" height=\"400\"}\n",
    "![](../images/IMG_0230.jpeg){.absolute .fragment top=\"150\" right=\"80\" width=\"450\"}\n",
    "\n",
    "\n",
    "\n",
    "## lets code!"
   ]
  },
  {
   "cell_type": "code",
   "execution_count": 4,
   "metadata": {},
   "outputs": [
    {
     "data": {
      "text/plain": [
       "2"
      ]
     },
     "execution_count": 4,
     "metadata": {},
     "output_type": "execute_result"
    }
   ],
   "source": [
    "\n",
    "\n",
    "#| code-fold: true\n",
    "#| code-summary: \"expand for full code\"\n",
    "1 + 1"
   ]
  },
  {
   "attachments": {},
   "cell_type": "markdown",
   "metadata": {},
   "source": []
  },
  {
   "cell_type": "code",
   "execution_count": 2,
   "metadata": {},
   "outputs": [
    {
     "data": {
      "text/plain": [
       "2"
      ]
     },
     "execution_count": 2,
     "metadata": {},
     "output_type": "execute_result"
    }
   ],
   "source": [
    "1 + 1"
   ]
  },
  {
   "attachments": {},
   "cell_type": "markdown",
   "metadata": {},
   "source": [
    "## references"
   ]
  }
 ],
 "metadata": {
  "kernelspec": {
   "display_name": "Python 3",
   "language": "python",
   "name": "python3"
  },
  "language_info": {
   "codemirror_mode": {
    "name": "ipython",
    "version": 3
   },
   "file_extension": ".py",
   "mimetype": "text/x-python",
   "name": "python",
   "nbconvert_exporter": "python",
   "pygments_lexer": "ipython3",
   "version": "3.9.6"
  },
  "orig_nbformat": 4
 },
 "nbformat": 4,
 "nbformat_minor": 2
}
